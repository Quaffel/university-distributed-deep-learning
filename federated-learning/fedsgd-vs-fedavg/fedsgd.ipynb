{
 "cells": [
  {
   "cell_type": "code",
   "execution_count": 13,
   "metadata": {},
   "outputs": [
    {
     "name": "stdout",
     "output_type": "stream",
     "text": [
      "Using accelerator 'mps'\n"
     ]
    }
   ],
   "source": [
    "import torch\n",
    "from torch.utils.data import DataLoader\n",
    "from torchvision import datasets, transforms\n",
    "\n",
    "data_path = \"../../datasets\"\n",
    "\n",
    "if torch.accelerator.is_available():\n",
    "    device = torch.accelerator.current_accelerator()\n",
    "    print(f\"Using accelerator '{device}'\")\n",
    "\n",
    "    if device.type == \"cuda\":\n",
    "        torch.backends.cudnn.deterministic = True\n",
    "else:\n",
    "    device = torch.device(\"cpu\")\n",
    "    print(\"WARN: No accelerator found, running on CPU\")\n",
    "\n",
    "\n",
    "transform = transforms.Compose(\n",
    "    [\n",
    "        transforms.ToTensor(),\n",
    "        # normalize by mean and standard deviation, such that dataset has mean of 0.5 and standard deviation of 1\n",
    "        transforms.Normalize((0.1307,), (0.3081,)),\n",
    "    ]\n",
    ")\n",
    "\n",
    "train_dataset = datasets.MNIST(\n",
    "    data_path,\n",
    "    train=True,\n",
    "    download=True,\n",
    "    transform=transform,\n",
    ")\n",
    "\n",
    "test_loader = DataLoader(\n",
    "    datasets.MNIST(data_path, train=False, download=False, transform=transform),\n",
    "    shuffle=False,\n",
    "    drop_last=False,\n",
    "    batch_size=10000,\n",
    "    generator=torch.Generator(),\n",
    ")"
   ]
  },
  {
   "cell_type": "code",
   "execution_count": 14,
   "metadata": {},
   "outputs": [],
   "source": [
    "class MnistCnn(torch.nn.Module):\n",
    "    def __init__(self):\n",
    "        super(MnistCnn, self).__init__()\n",
    "\n",
    "        self.conv1 = torch.nn.Conv2d(in_channels=1, out_channels=32, kernel_size=3)\n",
    "        self.conv2 = torch.nn.Conv2d(in_channels=32, out_channels=64, kernel_size=3)\n",
    "        self.dropout1 = torch.nn.Dropout(p=0.25)\n",
    "        self.dropout2 = torch.nn.Dropout(p=0.5)\n",
    "        self.fc1 = torch.nn.Linear(in_features=9216, out_features=128)\n",
    "        self.fc2 = torch.nn.Linear(in_features=128, out_features=10)\n",
    "\n",
    "    def forward(self, x):\n",
    "        x = self.conv1(x)\n",
    "        x = torch.nn.functional.relu(x)\n",
    "        x = self.conv2(x)\n",
    "        x = torch.nn.functional.relu(x)\n",
    "        x = torch.nn.functional.max_pool2d(x, 2)\n",
    "        x = self.dropout1(x)\n",
    "        x = torch.flatten(x, 1)\n",
    "        x = self.fc1(x)\n",
    "        x = torch.nn.functional.relu(x)\n",
    "        x = self.dropout2(x)\n",
    "        x = self.fc2(x)\n",
    "\n",
    "        # Log softmax rather than softmax due to negative log likelihood loss.\n",
    "        # log_softmax rather than two separate operations for numerical stability\n",
    "        output = torch.nn.functional.log_softmax(x, dim=1)\n",
    "\n",
    "        return output"
   ]
  },
  {
   "cell_type": "code",
   "execution_count": 15,
   "metadata": {},
   "outputs": [
    {
     "data": {
      "application/vnd.jupyter.widget-view+json": {
       "model_id": "70c4915093f846328e96c660f4b21605",
       "version_major": 2,
       "version_minor": 0
      },
      "text/plain": [
       "epoch:   0%|          | 0/10 [00:00<?, ?it/s]"
      ]
     },
     "metadata": {},
     "output_type": "display_data"
    },
    {
     "data": {
      "application/vnd.jupyter.widget-view+json": {
       "model_id": "b384f7e7cce54c2d9fbdbbbd1a3347b2",
       "version_major": 2,
       "version_minor": 0
      },
      "text/plain": [
       "clients:   0%|          | 0/10 [00:00<?, ?it/s]"
      ]
     },
     "metadata": {},
     "output_type": "display_data"
    },
    {
     "data": {
      "application/vnd.jupyter.widget-view+json": {
       "model_id": "0f091a99fda8443c8e6e49c3f9b839e9",
       "version_major": 2,
       "version_minor": 0
      },
      "text/plain": [
       "clients:   0%|          | 0/10 [00:00<?, ?it/s]"
      ]
     },
     "metadata": {},
     "output_type": "display_data"
    },
    {
     "data": {
      "application/vnd.jupyter.widget-view+json": {
       "model_id": "fa6627337a70498ab6aaaa78b323c4e0",
       "version_major": 2,
       "version_minor": 0
      },
      "text/plain": [
       "clients:   0%|          | 0/10 [00:00<?, ?it/s]"
      ]
     },
     "metadata": {},
     "output_type": "display_data"
    },
    {
     "data": {
      "application/vnd.jupyter.widget-view+json": {
       "model_id": "aef7b6376c544b52a871e2152b8ef99f",
       "version_major": 2,
       "version_minor": 0
      },
      "text/plain": [
       "clients:   0%|          | 0/10 [00:00<?, ?it/s]"
      ]
     },
     "metadata": {},
     "output_type": "display_data"
    },
    {
     "data": {
      "application/vnd.jupyter.widget-view+json": {
       "model_id": "51ea3ae569a94e9e9da22d9a2e9689c1",
       "version_major": 2,
       "version_minor": 0
      },
      "text/plain": [
       "clients:   0%|          | 0/10 [00:00<?, ?it/s]"
      ]
     },
     "metadata": {},
     "output_type": "display_data"
    },
    {
     "data": {
      "application/vnd.jupyter.widget-view+json": {
       "model_id": "2ea841b9aac1438a981161ae7ecc4bf8",
       "version_major": 2,
       "version_minor": 0
      },
      "text/plain": [
       "clients:   0%|          | 0/10 [00:00<?, ?it/s]"
      ]
     },
     "metadata": {},
     "output_type": "display_data"
    },
    {
     "data": {
      "application/vnd.jupyter.widget-view+json": {
       "model_id": "bb8d993be8a647af8a51b45a29bb9cb4",
       "version_major": 2,
       "version_minor": 0
      },
      "text/plain": [
       "clients:   0%|          | 0/10 [00:00<?, ?it/s]"
      ]
     },
     "metadata": {},
     "output_type": "display_data"
    },
    {
     "data": {
      "application/vnd.jupyter.widget-view+json": {
       "model_id": "bc119e9ba9ce469594257e53eb993c04",
       "version_major": 2,
       "version_minor": 0
      },
      "text/plain": [
       "clients:   0%|          | 0/10 [00:00<?, ?it/s]"
      ]
     },
     "metadata": {},
     "output_type": "display_data"
    },
    {
     "data": {
      "application/vnd.jupyter.widget-view+json": {
       "model_id": "5f8465ca729c4ba7ba18a5efc3ca6b2b",
       "version_major": 2,
       "version_minor": 0
      },
      "text/plain": [
       "clients:   0%|          | 0/10 [00:00<?, ?it/s]"
      ]
     },
     "metadata": {},
     "output_type": "display_data"
    },
    {
     "data": {
      "application/vnd.jupyter.widget-view+json": {
       "model_id": "b8e8eb7b1be74275b8e6f8f23569872f",
       "version_major": 2,
       "version_minor": 0
      },
      "text/plain": [
       "clients:   0%|          | 0/10 [00:00<?, ?it/s]"
      ]
     },
     "metadata": {},
     "output_type": "display_data"
    }
   ],
   "source": [
    "from components.data_splitting import (\n",
    "    index_uniformly,\n",
    "    partition_dataset,\n",
    ")\n",
    "from fedsgd.server import FedSgdGradientServer\n",
    "\n",
    "client_datasets = partition_dataset(\n",
    "    train_dataset,\n",
    "    index_uniformly(\n",
    "        train_dataset, partitions_count=100, generator_or_seed=42\n",
    "    ),\n",
    ")\n",
    "\n",
    "torch.manual_seed(42)\n",
    "fedsgd_gradient_server = FedSgdGradientServer(\n",
    "    device=device,\n",
    "    model=MnistCnn().to(device),\n",
    "    client_subsets=client_datasets,\n",
    "    active_clients_fraction=0.1,\n",
    "    learning_rate=0.01,\n",
    "    seed=42,\n",
    ")\n",
    "result_fedsgd_gradient = fedsgd_gradient_server.run(rounds=10, test_loader=test_loader)"
   ]
  },
  {
   "cell_type": "code",
   "execution_count": 16,
   "metadata": {},
   "outputs": [
    {
     "data": {
      "text/html": [
       "<div>\n",
       "<style scoped>\n",
       "    .dataframe tbody tr th:only-of-type {\n",
       "        vertical-align: middle;\n",
       "    }\n",
       "\n",
       "    .dataframe tbody tr th {\n",
       "        vertical-align: top;\n",
       "    }\n",
       "\n",
       "    .dataframe thead th {\n",
       "        text-align: right;\n",
       "    }\n",
       "</style>\n",
       "<table border=\"1\" class=\"dataframe\">\n",
       "  <thead>\n",
       "    <tr style=\"text-align: right;\">\n",
       "      <th></th>\n",
       "      <th>round</th>\n",
       "      <th>algorithm</th>\n",
       "      <th>clients_count</th>\n",
       "      <th>active_clients_fraction</th>\n",
       "      <th>batch_size</th>\n",
       "      <th>local_epochs_count</th>\n",
       "      <th>learning_rate</th>\n",
       "      <th>seed</th>\n",
       "      <th>wall_time</th>\n",
       "      <th>message_count</th>\n",
       "      <th>test_accuracy</th>\n",
       "    </tr>\n",
       "  </thead>\n",
       "  <tbody>\n",
       "    <tr>\n",
       "      <th>0</th>\n",
       "      <td>1</td>\n",
       "      <td>FedSgd</td>\n",
       "      <td>100</td>\n",
       "      <td>0.1</td>\n",
       "      <td>-1</td>\n",
       "      <td>1</td>\n",
       "      <td>0.01</td>\n",
       "      <td>42</td>\n",
       "      <td>1.199922</td>\n",
       "      <td>20</td>\n",
       "      <td>0.0870</td>\n",
       "    </tr>\n",
       "    <tr>\n",
       "      <th>1</th>\n",
       "      <td>2</td>\n",
       "      <td>FedSgd</td>\n",
       "      <td>100</td>\n",
       "      <td>0.1</td>\n",
       "      <td>-1</td>\n",
       "      <td>1</td>\n",
       "      <td>0.01</td>\n",
       "      <td>42</td>\n",
       "      <td>1.179976</td>\n",
       "      <td>40</td>\n",
       "      <td>0.0871</td>\n",
       "    </tr>\n",
       "    <tr>\n",
       "      <th>2</th>\n",
       "      <td>3</td>\n",
       "      <td>FedSgd</td>\n",
       "      <td>100</td>\n",
       "      <td>0.1</td>\n",
       "      <td>-1</td>\n",
       "      <td>1</td>\n",
       "      <td>0.01</td>\n",
       "      <td>42</td>\n",
       "      <td>1.075049</td>\n",
       "      <td>60</td>\n",
       "      <td>0.0932</td>\n",
       "    </tr>\n",
       "    <tr>\n",
       "      <th>3</th>\n",
       "      <td>4</td>\n",
       "      <td>FedSgd</td>\n",
       "      <td>100</td>\n",
       "      <td>0.1</td>\n",
       "      <td>-1</td>\n",
       "      <td>1</td>\n",
       "      <td>0.01</td>\n",
       "      <td>42</td>\n",
       "      <td>1.095762</td>\n",
       "      <td>80</td>\n",
       "      <td>0.0954</td>\n",
       "    </tr>\n",
       "    <tr>\n",
       "      <th>4</th>\n",
       "      <td>5</td>\n",
       "      <td>FedSgd</td>\n",
       "      <td>100</td>\n",
       "      <td>0.1</td>\n",
       "      <td>-1</td>\n",
       "      <td>1</td>\n",
       "      <td>0.01</td>\n",
       "      <td>42</td>\n",
       "      <td>1.186922</td>\n",
       "      <td>100</td>\n",
       "      <td>0.0989</td>\n",
       "    </tr>\n",
       "    <tr>\n",
       "      <th>5</th>\n",
       "      <td>6</td>\n",
       "      <td>FedSgd</td>\n",
       "      <td>100</td>\n",
       "      <td>0.1</td>\n",
       "      <td>-1</td>\n",
       "      <td>1</td>\n",
       "      <td>0.01</td>\n",
       "      <td>42</td>\n",
       "      <td>1.110154</td>\n",
       "      <td>120</td>\n",
       "      <td>0.1021</td>\n",
       "    </tr>\n",
       "    <tr>\n",
       "      <th>6</th>\n",
       "      <td>7</td>\n",
       "      <td>FedSgd</td>\n",
       "      <td>100</td>\n",
       "      <td>0.1</td>\n",
       "      <td>-1</td>\n",
       "      <td>1</td>\n",
       "      <td>0.01</td>\n",
       "      <td>42</td>\n",
       "      <td>1.102997</td>\n",
       "      <td>140</td>\n",
       "      <td>0.1039</td>\n",
       "    </tr>\n",
       "    <tr>\n",
       "      <th>7</th>\n",
       "      <td>8</td>\n",
       "      <td>FedSgd</td>\n",
       "      <td>100</td>\n",
       "      <td>0.1</td>\n",
       "      <td>-1</td>\n",
       "      <td>1</td>\n",
       "      <td>0.01</td>\n",
       "      <td>42</td>\n",
       "      <td>1.175793</td>\n",
       "      <td>160</td>\n",
       "      <td>0.1118</td>\n",
       "    </tr>\n",
       "    <tr>\n",
       "      <th>8</th>\n",
       "      <td>9</td>\n",
       "      <td>FedSgd</td>\n",
       "      <td>100</td>\n",
       "      <td>0.1</td>\n",
       "      <td>-1</td>\n",
       "      <td>1</td>\n",
       "      <td>0.01</td>\n",
       "      <td>42</td>\n",
       "      <td>1.089042</td>\n",
       "      <td>180</td>\n",
       "      <td>0.1301</td>\n",
       "    </tr>\n",
       "    <tr>\n",
       "      <th>9</th>\n",
       "      <td>10</td>\n",
       "      <td>FedSgd</td>\n",
       "      <td>100</td>\n",
       "      <td>0.1</td>\n",
       "      <td>-1</td>\n",
       "      <td>1</td>\n",
       "      <td>0.01</td>\n",
       "      <td>42</td>\n",
       "      <td>1.133738</td>\n",
       "      <td>200</td>\n",
       "      <td>0.1588</td>\n",
       "    </tr>\n",
       "  </tbody>\n",
       "</table>\n",
       "</div>"
      ],
      "text/plain": [
       "   round algorithm  clients_count  active_clients_fraction  batch_size  \\\n",
       "0      1    FedSgd            100                      0.1          -1   \n",
       "1      2    FedSgd            100                      0.1          -1   \n",
       "2      3    FedSgd            100                      0.1          -1   \n",
       "3      4    FedSgd            100                      0.1          -1   \n",
       "4      5    FedSgd            100                      0.1          -1   \n",
       "5      6    FedSgd            100                      0.1          -1   \n",
       "6      7    FedSgd            100                      0.1          -1   \n",
       "7      8    FedSgd            100                      0.1          -1   \n",
       "8      9    FedSgd            100                      0.1          -1   \n",
       "9     10    FedSgd            100                      0.1          -1   \n",
       "\n",
       "   local_epochs_count  learning_rate  seed  wall_time  message_count  \\\n",
       "0                   1           0.01    42   1.199922             20   \n",
       "1                   1           0.01    42   1.179976             40   \n",
       "2                   1           0.01    42   1.075049             60   \n",
       "3                   1           0.01    42   1.095762             80   \n",
       "4                   1           0.01    42   1.186922            100   \n",
       "5                   1           0.01    42   1.110154            120   \n",
       "6                   1           0.01    42   1.102997            140   \n",
       "7                   1           0.01    42   1.175793            160   \n",
       "8                   1           0.01    42   1.089042            180   \n",
       "9                   1           0.01    42   1.133738            200   \n",
       "\n",
       "   test_accuracy  \n",
       "0         0.0870  \n",
       "1         0.0871  \n",
       "2         0.0932  \n",
       "3         0.0954  \n",
       "4         0.0989  \n",
       "5         0.1021  \n",
       "6         0.1039  \n",
       "7         0.1118  \n",
       "8         0.1301  \n",
       "9         0.1588  "
      ]
     },
     "execution_count": 16,
     "metadata": {},
     "output_type": "execute_result"
    }
   ],
   "source": [
    "result_fedsgd_gradient.as_df()"
   ]
  }
 ],
 "metadata": {
  "kernelspec": {
   "display_name": ".venv",
   "language": "python",
   "name": "python3"
  },
  "language_info": {
   "codemirror_mode": {
    "name": "ipython",
    "version": 3
   },
   "file_extension": ".py",
   "mimetype": "text/x-python",
   "name": "python",
   "nbconvert_exporter": "python",
   "pygments_lexer": "ipython3",
   "version": "3.13.2"
  }
 },
 "nbformat": 4,
 "nbformat_minor": 2
}
