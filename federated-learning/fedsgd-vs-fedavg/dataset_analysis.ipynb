{
 "cells": [
  {
   "cell_type": "code",
   "execution_count": 28,
   "metadata": {},
   "outputs": [],
   "source": [
    "import typing\n",
    "\n",
    "import torch\n",
    "from torch.utils.data import DataLoader\n",
    "from torchvision import datasets, transforms\n",
    "\n",
    "data_path = \"../../datasets\"\n",
    "transform = transforms.Compose(\n",
    "    [\n",
    "        transforms.ToTensor(),\n",
    "        # normalize by mean and standard deviation; values were determined on dataset\n",
    "        transforms.Normalize((0.1307,), (0.3081,)),\n",
    "    ]\n",
    ")\n",
    "\n",
    "train_dataset = datasets.MNIST(\n",
    "    data_path,\n",
    "    train=True,\n",
    "    download=True,\n",
    "    transform=transform,\n",
    ")\n",
    "\n",
    "test_loader = DataLoader(\n",
    "    datasets.MNIST(data_path, train=False, download=False, transform=transform),\n",
    "    shuffle=False,\n",
    "    drop_last=False,\n",
    "    batch_size=10000,\n",
    "    generator=torch.Generator(),\n",
    ")"
   ]
  },
  {
   "cell_type": "markdown",
   "metadata": {},
   "source": [
    "## sample dataset"
   ]
  },
  {
   "cell_type": "code",
   "execution_count": 29,
   "metadata": {},
   "outputs": [],
   "source": [
    "from matplotlib import pyplot as plt\n",
    "import math\n",
    "from torch.utils.data import Dataset\n",
    "\n",
    "\n",
    "def render_records(images: typing.Sequence[torch.Tensor], labels: typing.Sequence[str]):\n",
    "    images_count = len(images)\n",
    "    if images_count != len(labels):\n",
    "        raise ValueError(\"dimensions of images and labels must match\")\n",
    "\n",
    "    axes_length = math.ceil(math.sqrt(images_count))\n",
    "    fig, axes = plt.subplots(axes_length, axes_length, figsize=(10, 10))\n",
    "\n",
    "    # loaded images are of shape C x W x H\n",
    "    image_channels = images[0].shape[0]\n",
    "    image_dimensions = (images[0].shape[1], images[0].shape[2])\n",
    "\n",
    "    fig.suptitle(\n",
    "        f\"image of dimensions {image_dimensions} with {image_channels} channels\"\n",
    "    )\n",
    "\n",
    "    for image, label, axis in zip(images, labels, axes.flatten()):\n",
    "        # loaded images are of shape C x W x H, but axis.imshow expects channel to go last\n",
    "        image = image.permute(1, 2, 0).cpu().numpy()\n",
    "\n",
    "        axis.imshow(image, cmap=\"gray\")\n",
    "        axis.set_title(f\"Label: {label}\")\n",
    "        axis.axis(\"off\")\n",
    "\n",
    "    for remaining_axis in axes.flatten()[images_count:]:\n",
    "        # Releases viewport reserved by subplot, which allows matplotlib to omit empty rows.\n",
    "        # fig.axis(\"off\") would keep the space reserved, causing in an empty white row.\n",
    "        fig.delaxes(remaining_axis)\n",
    "\n",
    "    return fig\n",
    "\n",
    "\n",
    "def render_random_records(\n",
    "    n: int, dataset: Dataset[typing.Any], label_map: typing.Mapping[int, str]\n",
    "):\n",
    "    loader = DataLoader(dataset, batch_size=n, shuffle=True)\n",
    "    sample_images, sample_labels = next(iter(loader))\n",
    "\n",
    "    resolved_labels = [label_map[it.item()] for it in sample_labels]\n",
    "    return render_records(sample_images, resolved_labels)"
   ]
  },
  {
   "cell_type": "code",
   "execution_count": 30,
   "metadata": {},
   "outputs": [
    {
     "name": "stderr",
     "output_type": "stream",
     "text": [
      "/var/folders/nm/sy1cwyln7zq5tvjz165flcmh0000gn/T/ipykernel_74025/2066043385.py:5: UserWarning: FigureCanvasAgg is non-interactive, and thus cannot be shown\n",
      "  ).show()\n"
     ]
    },
    {
     "data": {
      "image/png": "[encoded data removed]",
      "text/plain": [
       "<Figure size 1000x1000 with 12 Axes>"
      ]
     },
     "metadata": {},
     "output_type": "display_data"
    }
   ],
   "source": [
    "render_random_records(\n",
    "    12,\n",
    "    train_dataset,\n",
    "    {it: str(it) for it in range(10)},\n",
    ").show()"
   ]
  },
  {
   "cell_type": "markdown",
   "metadata": {},
   "source": [
    "## determine class size / verify class balance"
   ]
  },
  {
   "cell_type": "code",
   "execution_count": 31,
   "metadata": {},
   "outputs": [],
   "source": [
    "from collections import Counter\n",
    "\n",
    "\n",
    "def count_distinct_values(targets: typing.Iterable[typing.Any]):\n",
    "    targets_count = Counter(targets)\n",
    "\n",
    "    for target, count in targets_count.items():\n",
    "        print(f\"Target {target}: {count} records\")\n",
    "\n",
    "    print(f\"Total: {targets_count.total()}\")"
   ]
  },
  {
   "cell_type": "code",
   "execution_count": 32,
   "metadata": {},
   "outputs": [
    {
     "name": "stdout",
     "output_type": "stream",
     "text": [
      "Target 5: 5421 records\n",
      "Target 0: 5923 records\n",
      "Target 4: 5842 records\n",
      "Target 1: 6742 records\n",
      "Target 9: 5949 records\n",
      "Target 2: 5958 records\n",
      "Target 3: 6131 records\n",
      "Target 6: 5918 records\n",
      "Target 7: 6265 records\n",
      "Target 8: 5851 records\n",
      "Total: 60000\n"
     ]
    }
   ],
   "source": [
    "count_distinct_values(train_dataset.targets.numpy())"
   ]
  },
  {
   "cell_type": "markdown",
   "metadata": {},
   "source": [
    "## analyze how classes are split across partitions"
   ]
  },
  {
   "cell_type": "code",
   "execution_count": 33,
   "metadata": {},
   "outputs": [
    {
     "name": "stdout",
     "output_type": "stream",
     "text": [
      "==== subset #0 ====\n",
      "Target 2: 3000 records\n",
      "Target 7: 3000 records\n",
      "Total: 6000\n",
      "==== subset #1 ====\n",
      "Target 3: 3000 records\n",
      "Target 6: 2935 records\n",
      "Target 7: 65 records\n",
      "Total: 6000\n",
      "==== subset #2 ====\n",
      "Target 1: 3665 records\n",
      "Target 2: 2335 records\n",
      "Total: 6000\n",
      "==== subset #3 ====\n",
      "Target 2: 623 records\n",
      "Target 3: 2377 records\n",
      "Target 5: 17 records\n",
      "Target 6: 2983 records\n",
      "Total: 6000\n",
      "==== subset #4 ====\n",
      "Target 3: 754 records\n",
      "Target 4: 2246 records\n",
      "Target 0: 2923 records\n",
      "Target 1: 77 records\n",
      "Total: 6000\n",
      "==== subset #5 ====\n",
      "Target 8: 51 records\n",
      "Target 9: 2949 records\n",
      "Target 0: 3000 records\n",
      "Total: 6000\n",
      "==== subset #6 ====\n",
      "Target 4: 596 records\n",
      "Target 5: 2404 records\n",
      "Target 7: 200 records\n",
      "Target 8: 2800 records\n",
      "Total: 6000\n",
      "==== subset #7 ====\n",
      "Target 5: 3000 records\n",
      "Target 4: 3000 records\n",
      "Total: 6000\n",
      "==== subset #8 ====\n",
      "Target 7: 3000 records\n",
      "Target 8: 3000 records\n",
      "Total: 6000\n",
      "==== subset #9 ====\n",
      "Target 9: 3000 records\n",
      "Target 1: 3000 records\n",
      "Total: 6000\n"
     ]
    }
   ],
   "source": [
    "from components.data_splitting import (\n",
    "    index_by_approximate_binary_target_partitions,\n",
    "    partition_dataset,\n",
    ")\n",
    "\n",
    "sample_index = index_by_approximate_binary_target_partitions(train_dataset, 10, 42)\n",
    "subsets = partition_dataset(train_dataset, sample_index)\n",
    "\n",
    "for subset_idx, subset in enumerate(subsets):\n",
    "    print(f\"==== subset #{subset_idx} ====\")\n",
    "    subset_targets = list(int(it) for _, it in DataLoader(subset))\n",
    "    count_distinct_values(subset_targets)"
   ]
  }
 ],
 "metadata": {
  "kernelspec": {
   "display_name": ".venv",
   "language": "python",
   "name": "python3"
  },
  "language_info": {
   "codemirror_mode": {
    "name": "ipython",
    "version": 3
   },
   "file_extension": ".py",
   "mimetype": "text/x-python",
   "name": "python",
   "nbconvert_exporter": "python",
   "pygments_lexer": "ipython3",
   "version": "3.13.2"
  }
 },
 "nbformat": 4,
 "nbformat_minor": 2
}
